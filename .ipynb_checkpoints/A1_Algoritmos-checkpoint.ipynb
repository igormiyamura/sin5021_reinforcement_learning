{
 "cells": [
  {
   "cell_type": "code",
   "execution_count": 1,
   "metadata": {
    "ExecuteTime": {
     "end_time": "2022-09-18T05:20:53.862745Z",
     "start_time": "2022-09-18T05:20:53.388696Z"
    }
   },
   "outputs": [],
   "source": [
    "import pandas as pd\n",
    "import numpy as np\n",
    "import os"
   ]
  },
  {
   "cell_type": "markdown",
   "metadata": {},
   "source": [
    "# Atravessando o Rio"
   ]
  },
  {
   "cell_type": "code",
   "execution_count": 2,
   "metadata": {
    "ExecuteTime": {
     "end_time": "2022-09-18T05:20:53.893750Z",
     "start_time": "2022-09-18T05:20:53.864746Z"
    },
    "code_folding": [
     1,
     23,
     31,
     34,
     38,
     48,
     63,
     66,
     85
    ]
   },
   "outputs": [],
   "source": [
    "class Rio:\n",
    "    def __init__(self, V0, R, disc_factor, epsilon, LOG=False):\n",
    "        print('Inicializando Rio!')\n",
    "        self.mapa = self.define_mapa()\n",
    "        \n",
    "        self.prob_t = pd.read_excel(os.path.join('parameters', \n",
    "                                                 'rio_transicoes.xlsx'))\n",
    "        self.recompensa = R\n",
    "        \n",
    "        self.acoes = ['N', 'S', 'L', 'O']\n",
    "        \n",
    "        self.T_N = self.define_prob_transicao('N')\n",
    "        self.T_S = self.define_prob_transicao('S')\n",
    "        self.T_L = self.define_prob_transicao('L')\n",
    "        self.T_O = self.define_prob_transicao('O')\n",
    "        \n",
    "        self.V0 = V0\n",
    "        self.V = V0\n",
    "        self.discount_factor = disc_factor\n",
    "        self.epsilon = epsilon\n",
    "        \n",
    "        self._log = LOG\n",
    "        \n",
    "    def __repr__(self):\n",
    "        res = ''\n",
    "        for i in self.V.items():\n",
    "            res += f'{i[0]}[{np.round(i[1], 4)}] | '\n",
    "            if i[0] == 'E': res += '\\n'\n",
    "            \n",
    "        return res\n",
    "    \n",
    "    def reset(self):\n",
    "        self.V = self.V0\n",
    "        \n",
    "    def define_mapa(self):\n",
    "        return {'A': 'X', 'B': 'X', 'C': 'X', 'D': 'X', 'E': 'X',\n",
    "               'F': 's0', 'G': 'RIO', 'H': 'RIO', 'I': 'RIO', 'J': 'G'}\n",
    "    \n",
    "    def get_T(self, a, s):\n",
    "        if a == 'N':\n",
    "            return self.T_N.loc[str(s), :].values\n",
    "        elif a == 'S':\n",
    "            return self.T_S.loc[str(s), :].values\n",
    "        elif a == 'L':\n",
    "            return self.T_L.loc[str(s), :].values\n",
    "        elif a == 'O':\n",
    "            return self.T_O.loc[str(s), :].values\n",
    "    \n",
    "    def define_prob_transicao(self, a):\n",
    "        if a == 'N':\n",
    "            T = self.prob_t.iloc[5:15, 2:12]\n",
    "        elif a == 'S':\n",
    "            T = self.prob_t.iloc[17:27, 2:12]\n",
    "        elif a == 'L':\n",
    "            T = self.prob_t.iloc[5:15, 14:24]\n",
    "        elif a == 'O':\n",
    "            T = self.prob_t.iloc[17:27, 14:24]\n",
    "            \n",
    "        T.index = self.mapa.keys()\n",
    "        T.columns = self.mapa.keys()\n",
    "        \n",
    "        return T\n",
    "    \n",
    "    def get_recompensa(self, s, a):\n",
    "        return self.recompensa[s]\n",
    "    \n",
    "    def run_converge(self):\n",
    "        qtd_iteracoes = 0\n",
    "        first = True\n",
    "\n",
    "        while(first or np.max(np.abs(np.array(V_k1) - np.array(V_k))) > 2 * self.epsilon):\n",
    "            first = False\n",
    "\n",
    "            V_k = [i[1] for i in self.V.items()]\n",
    "\n",
    "            self.step()\n",
    "            V_k1 = [i[1] for i in self.V.items()]\n",
    "            \n",
    "            if self._log: print('V_k:', V_k)\n",
    "            if self._log: print('V_k+1:', V_k1)\n",
    "            if self._log: print('|| V_k+1 - V_k || inf:', np.max(np.abs(np.array(V_k1) - np.array(V_k))))\n",
    "            qtd_iteracoes += 1\n",
    "            \n",
    "        return qtd_iteracoes\n",
    "    \n",
    "    def step(self):\n",
    "        V_t = {}\n",
    "        for S in self.V.keys():\n",
    "            bellman_res = []\n",
    "            for a in self.acoes:\n",
    "                if self._log: print(f'Debug [{S}]/[{a}]:')\n",
    "                if self._log: print('R:', self.get_recompensa(S, a))\n",
    "                if self._log: print('DF:', self.discount_factor)\n",
    "                if self._log: print('T:', self.get_T(a, S))\n",
    "                if self._log: print('V:', [i[1] for i in self.V.items()])\n",
    "                if self._log: print('Sum:', (self.get_T(a, S) * [i[1] for i in self.V.items()]).sum())\n",
    "                if self._log: print('---')\n",
    "                bellman = self.get_recompensa(S, a) + self.discount_factor * (self.get_T(a, S) * [i[1] for i in self.V.items()]).sum()\n",
    "                bellman_res.append(bellman)\n",
    "\n",
    "            V_t[S] = np.max(bellman_res)\n",
    "            \n",
    "        self.V = V_t\n",
    "        return True"
   ]
  },
  {
   "cell_type": "markdown",
   "metadata": {},
   "source": [
    "$$\\gamma = 1$$"
   ]
  },
  {
   "cell_type": "code",
   "execution_count": 3,
   "metadata": {
    "ExecuteTime": {
     "end_time": "2022-09-18T05:20:53.909250Z",
     "start_time": "2022-09-18T05:20:53.895750Z"
    }
   },
   "outputs": [],
   "source": [
    "V0 = {'A': 0, 'B': 0, 'C': 0, 'D': 0, 'E': 0,\n",
    "'F': 0, 'G': 0, 'H': 0, 'I': 0, 'J': 0}\n",
    "R = {'A': -1, 'B': -1, 'C': -1, 'D': -1, 'E': -1,\n",
    "'F': -1, 'G': -1, 'H': -1, 'I': -1, 'J': 0}\n",
    "disc_factor = 1\n",
    "epsilon = 0.001"
   ]
  },
  {
   "cell_type": "code",
   "execution_count": 4,
   "metadata": {
    "ExecuteTime": {
     "end_time": "2022-09-18T05:20:54.389802Z",
     "start_time": "2022-09-18T05:20:53.910751Z"
    }
   },
   "outputs": [
    {
     "name": "stdout",
     "output_type": "stream",
     "text": [
      "Inicializando Rio!\n"
     ]
    }
   ],
   "source": [
    "r = Rio(V0, R, disc_factor, epsilon)"
   ]
  },
  {
   "cell_type": "code",
   "execution_count": 5,
   "metadata": {
    "ExecuteTime": {
     "end_time": "2022-09-18T05:20:54.405306Z",
     "start_time": "2022-09-18T05:20:54.391305Z"
    },
    "scrolled": false
   },
   "outputs": [
    {
     "data": {
      "text/plain": [
       "A[-1] | B[-1] | C[-1] | D[-1] | E[-1] | \n",
       "F[-1] | G[-1.0] | H[-1.0] | I[-1.0] | J[0] | "
      ]
     },
     "execution_count": 5,
     "metadata": {},
     "output_type": "execute_result"
    }
   ],
   "source": [
    "r.step()\n",
    "r"
   ]
  },
  {
   "cell_type": "code",
   "execution_count": 6,
   "metadata": {
    "ExecuteTime": {
     "end_time": "2022-09-18T05:20:54.451810Z",
     "start_time": "2022-09-18T05:20:54.406308Z"
    }
   },
   "outputs": [
    {
     "name": "stdout",
     "output_type": "stream",
     "text": [
      "Quantidade de iterações realizadas: 9\n"
     ]
    },
    {
     "data": {
      "text/plain": [
       "A[-5.0] | B[-4.0] | C[-3.0] | D[-2.0] | E[-1.0] | \n",
       "F[-6.0] | G[-6.0] | H[-5.5] | I[-4.0] | J[0.0] | "
      ]
     },
     "execution_count": 6,
     "metadata": {},
     "output_type": "execute_result"
    }
   ],
   "source": [
    "r.reset()\n",
    "iteracoes = r.run_converge()\n",
    "print('Quantidade de iterações realizadas:', iteracoes)\n",
    "r"
   ]
  },
  {
   "cell_type": "markdown",
   "metadata": {},
   "source": [
    "$$\\gamma ≠ 1$$"
   ]
  },
  {
   "cell_type": "code",
   "execution_count": 7,
   "metadata": {
    "ExecuteTime": {
     "end_time": "2022-09-18T05:20:54.482814Z",
     "start_time": "2022-09-18T05:20:54.452810Z"
    }
   },
   "outputs": [
    {
     "name": "stdout",
     "output_type": "stream",
     "text": [
      "Inicializando Rio!\n"
     ]
    }
   ],
   "source": [
    "V0 = {'A': 0, 'B': 0, 'C': 0, 'D': 0, 'E': 0,\n",
    "'F': 0, 'G': 0, 'H': 0, 'I': 0, 'J': 0}\n",
    "R = {'A': -1, 'B': -1, 'C': -1, 'D': -1, 'E': -1,\n",
    "'F': -1, 'G': -1, 'H': -1, 'I': -1, 'J': 0}\n",
    "disc_factor = 0.9\n",
    "epsilon = 0.001\n",
    "\n",
    "r1 = Rio(V0, R, disc_factor, epsilon)"
   ]
  },
  {
   "cell_type": "code",
   "execution_count": 8,
   "metadata": {
    "ExecuteTime": {
     "end_time": "2022-09-18T05:20:54.498316Z",
     "start_time": "2022-09-18T05:20:54.484814Z"
    }
   },
   "outputs": [
    {
     "data": {
      "text/plain": [
       "A[-1.0] | B[-1.0] | C[-1.0] | D[-1.0] | E[-1.0] | \n",
       "F[-1.0] | G[-1.0] | H[-1.0] | I[-1.0] | J[0.0] | "
      ]
     },
     "execution_count": 8,
     "metadata": {},
     "output_type": "execute_result"
    }
   ],
   "source": [
    "r1.step()\n",
    "r1"
   ]
  },
  {
   "cell_type": "code",
   "execution_count": 9,
   "metadata": {
    "ExecuteTime": {
     "end_time": "2022-09-18T05:20:54.544820Z",
     "start_time": "2022-09-18T05:20:54.499815Z"
    }
   },
   "outputs": [
    {
     "name": "stdout",
     "output_type": "stream",
     "text": [
      "Quantidade de iterações realizadas: 9\n"
     ]
    },
    {
     "data": {
      "text/plain": [
       "A[-4.0951] | B[-3.439] | C[-2.71] | D[-1.9] | E[-1.0] | \n",
       "F[-4.6856] | G[-4.6561] | H[-4.328] | I[-3.1085] | J[0.0] | "
      ]
     },
     "execution_count": 9,
     "metadata": {},
     "output_type": "execute_result"
    }
   ],
   "source": [
    "r1.reset()\n",
    "iteracoes = r1.run_converge()\n",
    "print('Quantidade de iterações realizadas:', iteracoes)\n",
    "r1"
   ]
  },
  {
   "cell_type": "markdown",
   "metadata": {},
   "source": [
    "---"
   ]
  },
  {
   "cell_type": "code",
   "execution_count": 10,
   "metadata": {
    "ExecuteTime": {
     "end_time": "2022-09-18T05:20:54.575822Z",
     "start_time": "2022-09-18T05:20:54.545820Z"
    }
   },
   "outputs": [
    {
     "name": "stdout",
     "output_type": "stream",
     "text": [
      "Inicializando Rio!\n"
     ]
    }
   ],
   "source": [
    "V0 = {'A': 0, 'B': 0, 'C': 0, 'D': 0, 'E': 0,\n",
    "'F': 0, 'G': 0, 'H': 0, 'I': 0, 'J': 0}\n",
    "R = {'A': 0, 'B': 0, 'C': 0, 'D': 0, 'E': 0,\n",
    "'F': 0, 'G': 0, 'H': 0, 'I': 0, 'J': 1}\n",
    "disc_factor = 0.9\n",
    "epsilon = 0.001\n",
    "\n",
    "r2 = Rio(V0, R, disc_factor, epsilon)"
   ]
  },
  {
   "cell_type": "code",
   "execution_count": 11,
   "metadata": {
    "ExecuteTime": {
     "end_time": "2022-09-18T05:20:54.591326Z",
     "start_time": "2022-09-18T05:20:54.577323Z"
    }
   },
   "outputs": [
    {
     "data": {
      "text/plain": [
       "A[0.0] | B[0.0] | C[0.0] | D[0.0] | E[0.0] | \n",
       "F[0.0] | G[0.0] | H[0.0] | I[0.0] | J[1.0] | "
      ]
     },
     "execution_count": 11,
     "metadata": {},
     "output_type": "execute_result"
    }
   ],
   "source": [
    "r2.step()\n",
    "r2"
   ]
  },
  {
   "cell_type": "code",
   "execution_count": 12,
   "metadata": {
    "ExecuteTime": {
     "end_time": "2022-09-18T05:20:54.637829Z",
     "start_time": "2022-09-18T05:20:54.592827Z"
    }
   },
   "outputs": [
    {
     "name": "stdout",
     "output_type": "stream",
     "text": [
      "Quantidade de iterações realizadas: 9\n"
     ]
    },
    {
     "data": {
      "text/plain": [
       "A[0.5905] | B[0.6561] | C[0.729] | D[0.81] | E[0.9] | \n",
       "F[0.5314] | G[0.5344] | H[0.5672] | I[0.6891] | J[1.0] | "
      ]
     },
     "execution_count": 12,
     "metadata": {},
     "output_type": "execute_result"
    }
   ],
   "source": [
    "r2.reset()\n",
    "iteracoes = r2.run_converge()\n",
    "print('Quantidade de iterações realizadas:', iteracoes)\n",
    "r2"
   ]
  },
  {
   "cell_type": "markdown",
   "metadata": {},
   "source": [
    "---"
   ]
  },
  {
   "cell_type": "code",
   "execution_count": 16,
   "metadata": {
    "ExecuteTime": {
     "end_time": "2022-09-18T05:22:33.230195Z",
     "start_time": "2022-09-18T05:22:33.197193Z"
    }
   },
   "outputs": [
    {
     "name": "stdout",
     "output_type": "stream",
     "text": [
      "Inicializando Rio!\n"
     ]
    }
   ],
   "source": [
    "V0 = {'A': 0, 'B': 0, 'C': 0, 'D': 0, 'E': 0,\n",
    "'F': 0, 'G': 0, 'H': 0, 'I': 0, 'J': 0}\n",
    "R = {'A': 0, 'B': 0, 'C': 0, 'D': 0, 'E': 0,\n",
    "'F': 0, 'G': 0, 'H': 0, 'I': 0, 'J': 1}\n",
    "disc_factor = 0.3\n",
    "epsilon = 0.001\n",
    "\n",
    "r3 = Rio(V0, R, disc_factor, epsilon, False)"
   ]
  },
  {
   "cell_type": "code",
   "execution_count": 17,
   "metadata": {
    "ExecuteTime": {
     "end_time": "2022-09-18T05:22:33.245699Z",
     "start_time": "2022-09-18T05:22:33.231697Z"
    },
    "scrolled": false
   },
   "outputs": [
    {
     "data": {
      "text/plain": [
       "A[0.0] | B[0.0] | C[0.0] | D[0.0] | E[0.0] | \n",
       "F[0.0] | G[0.0] | H[0.0] | I[0.0] | J[1.0] | "
      ]
     },
     "execution_count": 17,
     "metadata": {},
     "output_type": "execute_result"
    }
   ],
   "source": [
    "r3.step()\n",
    "r3"
   ]
  },
  {
   "cell_type": "code",
   "execution_count": 18,
   "metadata": {
    "ExecuteTime": {
     "end_time": "2022-09-18T05:22:33.276701Z",
     "start_time": "2022-09-18T05:22:33.247199Z"
    }
   },
   "outputs": [
    {
     "name": "stdout",
     "output_type": "stream",
     "text": [
      "Quantidade de iterações realizadas: 7\n"
     ]
    },
    {
     "data": {
      "text/plain": [
       "A[0.0024] | B[0.0081] | C[0.027] | D[0.09] | E[0.3] | \n",
       "F[0.0011] | G[0.0035] | H[0.0227] | I[0.1502] | J[1.0] | "
      ]
     },
     "execution_count": 18,
     "metadata": {},
     "output_type": "execute_result"
    }
   ],
   "source": [
    "r3.reset()\n",
    "iteracoes = r3.run_converge()\n",
    "print('Quantidade de iterações realizadas:', iteracoes)\n",
    "r3"
   ]
  }
 ],
 "metadata": {
  "hide_input": false,
  "kernelspec": {
   "display_name": "Python 3",
   "language": "python",
   "name": "python3"
  },
  "language_info": {
   "codemirror_mode": {
    "name": "ipython",
    "version": 3
   },
   "file_extension": ".py",
   "mimetype": "text/x-python",
   "name": "python",
   "nbconvert_exporter": "python",
   "pygments_lexer": "ipython3",
   "version": "3.8.5"
  },
  "toc": {
   "base_numbering": 1,
   "nav_menu": {},
   "number_sections": true,
   "sideBar": true,
   "skip_h1_title": false,
   "title_cell": "Table of Contents",
   "title_sidebar": "Contents",
   "toc_cell": false,
   "toc_position": {},
   "toc_section_display": true,
   "toc_window_display": false
  }
 },
 "nbformat": 4,
 "nbformat_minor": 4
}
