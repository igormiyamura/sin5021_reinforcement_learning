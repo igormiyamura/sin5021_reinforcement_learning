{
 "cells": [
  {
   "cell_type": "code",
   "execution_count": 1,
   "metadata": {
    "ExecuteTime": {
     "end_time": "2022-10-07T11:10:42.485218Z",
     "start_time": "2022-10-07T11:10:34.639421Z"
    }
   },
   "outputs": [],
   "source": [
    "import pandas as pd\n",
    "import numpy as np\n",
    "import os"
   ]
  },
  {
   "cell_type": "markdown",
   "metadata": {},
   "source": [
    "# Atravessando o Rio\n",
    "\n",
    "## A*\n"
   ]
  },
  {
   "cell_type": "code",
   "execution_count": 2,
   "metadata": {
    "ExecuteTime": {
     "end_time": "2022-10-07T11:10:42.500719Z",
     "start_time": "2022-10-07T11:10:42.486718Z"
    }
   },
   "outputs": [],
   "source": [
    "from collections import defaultdict\n",
    "\n",
    "class Grafo(object):\n",
    "    \"\"\" Implementação básica de um grafo. \"\"\"\n",
    "\n",
    "    def __init__(self, arestas, direcionado=False):\n",
    "        \"\"\"Inicializa as estruturas base do grafo.\"\"\"\n",
    "        self.adj = defaultdict(set)\n",
    "        self.direcionado = direcionado\n",
    "        self.adiciona_arestas(arestas)\n",
    "\n",
    "    def get_vertices(self):\n",
    "        \"\"\" Retorna a lista de vértices do grafo. \"\"\"\n",
    "        return list(self.adj.keys())\n",
    "\n",
    "    def get_arestas(self):\n",
    "        \"\"\" Retorna a lista de arestas do grafo. \"\"\"\n",
    "        return [(k, v) for k in self.adj.keys() for v in self.adj[k]]\n",
    "\n",
    "    def adiciona_arestas(self, arestas):\n",
    "        \"\"\" Adiciona arestas ao grafo. \"\"\"\n",
    "        for u, v in arestas:\n",
    "            self.adiciona_arco(u, v)\n",
    "\n",
    "    def adiciona_arco(self, u, v):\n",
    "        \"\"\" Adiciona uma ligação (arco) entre os nodos 'u' e 'v'. \"\"\"\n",
    "        self.adj[u].add(v)\n",
    "        if not self.direcionado:\n",
    "            self.adj[v].add(u)\n",
    "\n",
    "    def existe_aresta(self, u, v):\n",
    "        \"\"\" Existe uma aresta entre os vértices 'u' e 'v'? \"\"\"\n",
    "        return u in self.adj and v in self.adj[u]\n",
    "\n",
    "    def __len__(self):\n",
    "        return len(self.adj)\n",
    "\n",
    "    def __str__(self):\n",
    "        return '{}({})'.format(self.__class__.__name__, dict(self.adj))\n",
    "\n",
    "    def __getitem__(self, v):\n",
    "        return self.adj[v]"
   ]
  },
  {
   "cell_type": "code",
   "execution_count": 3,
   "metadata": {
    "ExecuteTime": {
     "end_time": "2022-10-07T11:10:42.516199Z",
     "start_time": "2022-10-07T11:10:42.502721Z"
    }
   },
   "outputs": [],
   "source": [
    "arestas = [('A', 'B'), ('A', 'F'),\n",
    "          ('B', 'A'), ('B', 'G'), ('B', 'C'),\n",
    "          ('C', 'B'), ('C', 'H'), ('C', 'D'),\n",
    "          ('D', 'C'), ('D', 'I'), ('D', 'E'),\n",
    "          ('E', 'D'), ('E', 'J'),\n",
    "          ('F', 'A'), ('F', 'G'),\n",
    "          ('G', 'F'), ('G', 'B'), ('G', 'H'),\n",
    "          ('H', 'F'), ('H', 'G'), ('H', 'C'), ('H', 'I'),\n",
    "          ('I', 'F'), ('I', 'H'), ('I', 'D'), ('I', 'J')]\n",
    "g = Grafo(arestas, True)"
   ]
  },
  {
   "cell_type": "code",
   "execution_count": 4,
   "metadata": {
    "ExecuteTime": {
     "end_time": "2022-10-07T11:10:42.531708Z",
     "start_time": "2022-10-07T11:10:42.517700Z"
    }
   },
   "outputs": [
    {
     "data": {
      "text/plain": [
       "[('A', 'F'), ('A', 'B')]"
      ]
     },
     "execution_count": 4,
     "metadata": {},
     "output_type": "execute_result"
    }
   ],
   "source": [
    "[a for a in g.get_arestas() if a[0] == 'A']"
   ]
  },
  {
   "cell_type": "code",
   "execution_count": 54,
   "metadata": {
    "ExecuteTime": {
     "end_time": "2022-10-07T11:58:12.229700Z",
     "start_time": "2022-10-07T11:58:12.201179Z"
    },
    "code_folding": [
     38,
     46,
     49,
     63,
     78
    ]
   },
   "outputs": [],
   "source": [
    "class Rio:\n",
    "    def __init__(self, V0, R, disc_factor, epsilon, LOG=False):\n",
    "        print('Inicializando Rio!')\n",
    "        arestas = [('A', 'B'), ('A', 'F'),\n",
    "          ('B', 'A'), ('B', 'G'), ('B', 'C'),\n",
    "          ('C', 'B'), ('C', 'H'), ('C', 'D'),\n",
    "          ('D', 'C'), ('D', 'I'), ('D', 'E'),\n",
    "          ('E', 'D'), ('E', 'J'),\n",
    "          ('F', 'A'), ('F', 'G'),\n",
    "          ('G', 'F'), ('G', 'B'), ('G', 'H'),\n",
    "          ('H', 'F'), ('H', 'G'), ('H', 'C'), ('H', 'I'),\n",
    "          ('I', 'F'), ('I', 'H'), ('I', 'D'), ('I', 'J')]\n",
    "        self.g = Grafo(arestas, True)\n",
    "        \n",
    "        self.mapa = self.define_mapa()\n",
    "        \n",
    "        self.prob_t = pd.read_excel(os.path.join('parameters', \n",
    "                                                 'rio_transicoes_lao.xlsx'))\n",
    "        self.recompensa = R\n",
    "        self.V0 = V0\n",
    "        self.V = V0\n",
    "        \n",
    "        self.acoes = ['N', 'S', 'L', 'O']\n",
    "        \n",
    "        self.T_N = self.define_prob_transicao('N')\n",
    "        self.T_S = self.define_prob_transicao('S')\n",
    "        self.T_L = self.define_prob_transicao('L')\n",
    "        self.T_O = self.define_prob_transicao('O')\n",
    "        \n",
    "        self.F = list('F')\n",
    "        self.I = list()\n",
    "        self.G = list('F')\n",
    "        self.GV = list('F')\n",
    "        \n",
    "        self.discount_factor = disc_factor\n",
    "        \n",
    "        self._log = LOG\n",
    "        \n",
    "    def __repr__(self):\n",
    "        res = ''\n",
    "        for i in self.V.items():\n",
    "            res += f'{i[0]}[{np.round(i[1], 4)}] | '\n",
    "            if i[0] == 'E': res += '\\n'\n",
    "            \n",
    "        return res\n",
    "    \n",
    "    def reset(self):\n",
    "        self.V = self.V0\n",
    "        \n",
    "    def define_mapa(self):\n",
    "        return {'A': 'X', 'B': 'X', 'C': 'X', 'D': 'X', 'E': 'X',\n",
    "               'F': 's0', 'G': 'RIO', 'H': 'RIO', 'I': 'RIO', 'J': 'G'}\n",
    "    \n",
    "    def get_T(self, a, s):\n",
    "        if a == 'N':\n",
    "            return self.T_N.loc[str(s), :].values\n",
    "        elif a == 'S':\n",
    "            return self.T_S.loc[str(s), :].values\n",
    "        elif a == 'L':\n",
    "            return self.T_L.loc[str(s), :].values\n",
    "        elif a == 'O':\n",
    "            return self.T_O.loc[str(s), :].values\n",
    "    \n",
    "    def define_prob_transicao(self, a):\n",
    "        if a == 'N':\n",
    "            T = self.prob_t.iloc[5:15, 2:12]\n",
    "        elif a == 'S':\n",
    "            T = self.prob_t.iloc[17:27, 2:12]\n",
    "        elif a == 'L':\n",
    "            T = self.prob_t.iloc[5:15, 14:24]\n",
    "        elif a == 'O':\n",
    "            T = self.prob_t.iloc[17:27, 14:24]\n",
    "            \n",
    "        T.index = self.mapa.keys()\n",
    "        T.columns = self.mapa.keys()\n",
    "        \n",
    "        return T\n",
    "    \n",
    "    def get_recompensa(self, s, a):\n",
    "        return self.recompensa[s]\n",
    "    \n",
    "    def step(self):\n",
    "        s = 'F'\n",
    "        while (len(list(set(self.F) & set(self.GV))) > 0) and (s != 'J'):\n",
    "            s = self.F[0]\n",
    "            self.F.remove(s)\n",
    "            fronteira = [a for a in g.get_arestas() if (a[0] == s)]\n",
    "            for aresta in fronteira: \n",
    "                if aresta[1] not in self.I and aresta[1] not in self.F:\n",
    "                    self.F.append(aresta[1])\n",
    "            self.I.append(s)\n",
    "            \n",
    "            for f in self.F:\n",
    "                self.G.append(f)\n",
    "                \n",
    "            Z = self.I\n",
    "            \n",
    "            print('F', self.F)\n",
    "            print('I', self.I)\n",
    "            print('G', self.G)\n",
    "            print('GV', self.GV)\n",
    "            print('Z', Z)\n",
    "            \n",
    "            \n",
    "            for S in Z:\n",
    "                bellman_res = {}\n",
    "                for a in self.acoes:\n",
    "                    print(S, a, self.get_T(a, S))\n",
    "                    if self.get_T(a, S).sum() > 0:\n",
    "                        if self._log: print(f'Debug [{S}]/[{a}]:')\n",
    "                        if self._log: print('R:', self.get_recompensa(S, a))\n",
    "                        if self._log: print('DF:', self.discount_factor)\n",
    "                        if self._log: print('T:', self.get_T(a, S))\n",
    "                        if self._log: print('V:', [i[1] for i in self.V.items()])\n",
    "                        if self._log: print('Sum:', (self.get_T(a, S) * [i[1] for i in self.V.items()]).sum())\n",
    "                        if self._log: print('---')\n",
    "                        bellman = self.get_recompensa(S, a) + self.discount_factor * (self.get_T(a, S) * [i[1] for i in self.V.items()]).sum()\n",
    "                        bellman_res[a] = bellman\n",
    "                    \n",
    "                print(bellman_res)\n",
    "                print(min(bellman_res, key=bellman_res.get))\n",
    "                self.V[S] = np.max([v[1] for v in bellman_res.items()])\n",
    "                self.GV = self.G\n",
    "            \n",
    "        return True"
   ]
  },
  {
   "cell_type": "markdown",
   "metadata": {},
   "source": [
    "$$\\gamma = 1$$"
   ]
  },
  {
   "cell_type": "code",
   "execution_count": 55,
   "metadata": {
    "ExecuteTime": {
     "end_time": "2022-10-07T11:58:12.661961Z",
     "start_time": "2022-10-07T11:58:12.644951Z"
    }
   },
   "outputs": [],
   "source": [
    "V0 = {'A': 0, 'B': 0, 'C': 0, 'D': 0, 'E': 0,\n",
    "'F': 0, 'G': 0, 'H': 0, 'I': 0, 'J': 0}\n",
    "#R = {'A': 0, 'B': 0, 'C': 0, 'D': 0, 'E': 0,\n",
    "#'F': 0, 'G': 0, 'H': 0, 'I': 0, 'J': 1}\n",
    "R = {'A': 1, 'B': 1, 'C': 1, 'D': 1, 'E': 1,\n",
    "'F': 1, 'G': 1, 'H': 1, 'I': 1, 'J': 0}\n",
    "disc_factor = 0.95\n",
    "epsilon = 0.001"
   ]
  },
  {
   "cell_type": "code",
   "execution_count": 56,
   "metadata": {
    "ExecuteTime": {
     "end_time": "2022-10-07T11:58:12.985033Z",
     "start_time": "2022-10-07T11:58:12.959236Z"
    }
   },
   "outputs": [
    {
     "name": "stdout",
     "output_type": "stream",
     "text": [
      "Inicializando Rio!\n"
     ]
    }
   ],
   "source": [
    "r = Rio(V0, R, disc_factor, epsilon, False)"
   ]
  },
  {
   "cell_type": "code",
   "execution_count": 57,
   "metadata": {
    "ExecuteTime": {
     "end_time": "2022-10-07T11:58:13.587212Z",
     "start_time": "2022-10-07T11:58:13.488202Z"
    },
    "scrolled": false
   },
   "outputs": [
    {
     "name": "stdout",
     "output_type": "stream",
     "text": [
      "F ['G', 'A']\n",
      "I ['F']\n",
      "G ['F', 'G', 'A']\n",
      "GV ['F']\n",
      "Z ['F']\n",
      "F N [1 0 0 0 0 0 0 0 0 0]\n",
      "F S [0 0 0 0 0 0 0 0 0 0]\n",
      "F L [0 0 0 0 0 0 1 0 0 0]\n",
      "F O [0 0 0 0 0 0 0 0 0 0]\n",
      "{'N': 1.0, 'L': 1.0}\n",
      "N\n",
      "F ['A', 'H', 'B']\n",
      "I ['F', 'G']\n",
      "G ['F', 'G', 'A', 'A', 'H', 'B']\n",
      "GV ['F', 'G', 'A', 'A', 'H', 'B']\n",
      "Z ['F', 'G']\n",
      "F N [1 0 0 0 0 0 0 0 0 0]\n",
      "F S [0 0 0 0 0 0 0 0 0 0]\n",
      "F L [0 0 0 0 0 0 1 0 0 0]\n",
      "F O [0 0 0 0 0 0 0 0 0 0]\n",
      "{'N': 1.0, 'L': 1.0}\n",
      "N\n",
      "G N [0 0.5 0 0 0 0.5 0 0 0 0]\n",
      "G S [0 0 0 0 0 0 0 0 0 0]\n",
      "G L [0 0 0 0 0 0.5 0 0.5 0 0]\n",
      "G O [0 0 0 0 0 1 0 0 0 0]\n",
      "{'N': 1.475, 'L': 1.475, 'O': 1.95}\n",
      "N\n",
      "F ['H', 'B']\n",
      "I ['F', 'G', 'A']\n",
      "G ['F', 'G', 'A', 'A', 'H', 'B', 'H', 'B']\n",
      "GV ['F', 'G', 'A', 'A', 'H', 'B', 'H', 'B']\n",
      "Z ['F', 'G', 'A']\n",
      "F N [1 0 0 0 0 0 0 0 0 0]\n",
      "F S [0 0 0 0 0 0 0 0 0 0]\n",
      "F L [0 0 0 0 0 0 1 0 0 0]\n",
      "F O [0 0 0 0 0 0 0 0 0 0]\n",
      "{'N': 1.0, 'L': 2.8525}\n",
      "N\n",
      "G N [0 0.5 0 0 0 0.5 0 0 0 0]\n",
      "G S [0 0 0 0 0 0 0 0 0 0]\n",
      "G L [0 0 0 0 0 0.5 0 0.5 0 0]\n",
      "G O [0 0 0 0 0 1 0 0 0 0]\n",
      "{'N': 2.3549375, 'L': 2.3549375, 'O': 3.709875}\n",
      "N\n",
      "A N [0 0 0 0 0 0 0 0 0 0]\n",
      "A S [0 0 0 0 0 1 0 0 0 0]\n",
      "A L [0 1 0 0 0 0 0 0 0 0]\n",
      "A O [0 0 0 0 0 0 0 0 0 0]\n",
      "{'S': 3.709875, 'L': 1.0}\n",
      "L\n",
      "F ['B', 'I', 'C']\n",
      "I ['F', 'G', 'A', 'H']\n",
      "G ['F', 'G', 'A', 'A', 'H', 'B', 'H', 'B', 'B', 'I', 'C']\n",
      "GV ['F', 'G', 'A', 'A', 'H', 'B', 'H', 'B', 'B', 'I', 'C']\n",
      "Z ['F', 'G', 'A', 'H']\n",
      "F N [1 0 0 0 0 0 0 0 0 0]\n",
      "F S [0 0 0 0 0 0 0 0 0 0]\n",
      "F L [0 0 0 0 0 0 1 0 0 0]\n",
      "F O [0 0 0 0 0 0 0 0 0 0]\n",
      "{'N': 4.524381249999999, 'L': 4.524381249999999}\n",
      "N\n",
      "G N [0 0.5 0 0 0 0.5 0 0 0 0]\n",
      "G S [0 0 0 0 0 0 0 0 0 0]\n",
      "G L [0 0 0 0 0 0.5 0 0.5 0 0]\n",
      "G O [0 0 0 0 0 1 0 0 0 0]\n",
      "{'N': 3.1490810937499996, 'L': 3.1490810937499996, 'O': 5.298162187499999}\n",
      "N\n",
      "A N [0 0 0 0 0 0 0 0 0 0]\n",
      "A S [0 0 0 0 0 1 0 0 0 0]\n",
      "A L [0 1 0 0 0 0 0 0 0 0]\n",
      "A O [0 0 0 0 0 0 0 0 0 0]\n",
      "{'S': 5.298162187499999, 'L': 1.0}\n",
      "L\n",
      "H N [0 0 0.5 0 0 0.5 0 0 0 0]\n",
      "H S [0 0 0 0 0 0 0 0 0 0]\n",
      "H L [0 0 0 0 0 0.5 0 0 0.5 0]\n",
      "H O [0 0 0 0 0 0.5 0.5 0 0 0]\n",
      "{'N': 3.1490810937499996, 'L': 3.1490810937499996, 'O': 5.665708132812499}\n",
      "N\n",
      "F ['I', 'C']\n",
      "I ['F', 'G', 'A', 'H', 'B']\n",
      "G ['F', 'G', 'A', 'A', 'H', 'B', 'H', 'B', 'B', 'I', 'C', 'I', 'C']\n",
      "GV ['F', 'G', 'A', 'A', 'H', 'B', 'H', 'B', 'B', 'I', 'C', 'I', 'C']\n",
      "Z ['F', 'G', 'A', 'H', 'B']\n",
      "F N [1 0 0 0 0 0 0 0 0 0]\n",
      "F S [0 0 0 0 0 0 0 0 0 0]\n",
      "F L [0 0 0 0 0 0 1 0 0 0]\n",
      "F O [0 0 0 0 0 0 0 0 0 0]\n",
      "{'N': 6.033254078124999, 'L': 6.033254078124999}\n",
      "N\n",
      "G N [0 0.5 0 0 0 0.5 0 0 0 0]\n",
      "G S [0 0 0 0 0 0 0 0 0 0]\n",
      "G L [0 0 0 0 0 0.5 0 0.5 0 0]\n",
      "G O [0 0 0 0 0 1 0 0 0 0]\n",
      "{'N': 3.8657956871093746, 'L': 6.5570070501953115, 'O': 6.731591374218749}\n",
      "N\n",
      "A N [0 0 0 0 0 0 0 0 0 0]\n",
      "A S [0 0 0 0 0 1 0 0 0 0]\n",
      "A L [0 1 0 0 0 0 0 0 0 0]\n",
      "A O [0 0 0 0 0 0 0 0 0 0]\n",
      "{'S': 6.731591374218749, 'L': 1.0}\n",
      "L\n",
      "H N [0 0 0.5 0 0 0.5 0 0 0 0]\n",
      "H S [0 0 0 0 0 0 0 0 0 0]\n",
      "H L [0 0 0 0 0 0.5 0 0 0.5 0]\n",
      "H O [0 0 0 0 0 0.5 0.5 0 0 0]\n",
      "{'N': 3.8657956871093746, 'L': 3.8657956871093746, 'O': 7.063301589863281}\n",
      "N\n",
      "B N [0 0 0 0 0 0 0 0 0 0]\n",
      "B S [0 0 0 0 0 0 1 0 0 0]\n",
      "B L [0 0 1 0 0 0 0 0 0 0]\n",
      "B O [1 0 0 0 0 0 0 0 0 0]\n",
      "{'S': 7.395011805507812, 'L': 1.0, 'O': 7.395011805507812}\n",
      "L\n",
      "F ['C', 'J', 'D']\n",
      "I ['F', 'G', 'A', 'H', 'B', 'I']\n",
      "G ['F', 'G', 'A', 'A', 'H', 'B', 'H', 'B', 'B', 'I', 'C', 'I', 'C', 'C', 'J', 'D']\n",
      "GV ['F', 'G', 'A', 'A', 'H', 'B', 'H', 'B', 'B', 'I', 'C', 'I', 'C', 'C', 'J', 'D']\n",
      "Z ['F', 'G', 'A', 'H', 'B', 'I']\n",
      "F N [1 0 0 0 0 0 0 0 0 0]\n",
      "F S [0 0 0 0 0 0 0 0 0 0]\n",
      "F L [0 0 0 0 0 0 1 0 0 0]\n",
      "F O [0 0 0 0 0 0 0 0 0 0]\n",
      "{'N': 7.395011805507812, 'L': 7.395011805507812}\n",
      "N\n",
      "G N [0 0.5 0 0 0 0.5 0 0 0 0]\n",
      "G S [0 0 0 0 0 0 0 0 0 0]\n",
      "G L [0 0 0 0 0 0.5 0 0.5 0 0]\n",
      "G O [0 0 0 0 0 1 0 0 0 0]\n",
      "{'N': 8.02526121523242, 'L': 7.8676988628012685, 'O': 8.02526121523242}\n",
      "L\n",
      "A N [0 0 0 0 0 0 0 0 0 0]\n",
      "A S [0 0 0 0 0 1 0 0 0 0]\n",
      "A L [0 1 0 0 0 0 0 0 0 0]\n",
      "A O [0 0 0 0 0 0 0 0 0 0]\n",
      "{'S': 8.02526121523242, 'L': 8.02526121523242}\n",
      "S\n",
      "H N [0 0 0.5 0 0 0.5 0 0 0 0]\n",
      "H S [0 0 0 0 0 0 0 0 0 0]\n",
      "H L [0 0 0 0 0 0.5 0 0 0.5 0]\n",
      "H O [0 0 0 0 0 0.5 0.5 0 0 0]\n",
      "{'N': 4.51263060761621, 'L': 4.51263060761621, 'O': 8.32462968485161}\n",
      "N\n",
      "B N [0 0 0 0 0 0 0 0 0 0]\n",
      "B S [0 0 0 0 0 0 1 0 0 0]\n",
      "B L [0 0 1 0 0 0 0 0 0 0]\n",
      "B O [1 0 0 0 0 0 0 0 0 0]\n",
      "{'S': 8.623998154470799, 'L': 1.0, 'O': 8.623998154470799}\n",
      "L\n",
      "I N [0 0 0 0.5 0 0.5 0 0 0 0]\n",
      "I S [0 0 0 0 0 0 0 0 0 0]\n",
      "I L [0 0 0 0 0 0.5 0 0 0 0.5]\n",
      "I O [0 0 0 0 0 0.5 0 0.5 0 0]\n",
      "{'N': 4.51263060761621, 'L': 4.51263060761621, 'O': 8.466829707920725}\n",
      "N\n",
      "F ['J', 'D']\n",
      "I ['F', 'G', 'A', 'H', 'B', 'I', 'C']\n",
      "G ['F', 'G', 'A', 'A', 'H', 'B', 'H', 'B', 'B', 'I', 'C', 'I', 'C', 'C', 'J', 'D', 'J', 'D']\n",
      "GV ['F', 'G', 'A', 'A', 'H', 'B', 'H', 'B', 'B', 'I', 'C', 'I', 'C', 'C', 'J', 'D', 'J', 'D']\n",
      "Z ['F', 'G', 'A', 'H', 'B', 'I', 'C']\n",
      "F N [1 0 0 0 0 0 0 0 0 0]\n",
      "F S [0 0 0 0 0 0 0 0 0 0]\n",
      "F L [0 0 0 0 0 0 1 0 0 0]\n",
      "F O [0 0 0 0 0 0 0 0 0 0]\n",
      "{'N': 8.623998154470799, 'L': 8.623998154470799}\n",
      "N\n",
      "G N [0 0.5 0 0 0 0.5 0 0 0 0]\n",
      "G S [0 0 0 0 0 0 0 0 0 0]\n",
      "G L [0 0 0 0 0 0.5 0 0.5 0 0]\n",
      "G O [0 0 0 0 0 1 0 0 0 0]\n",
      "{'N': 9.192798246747259, 'L': 9.050598223678143, 'O': 9.192798246747259}\n",
      "L\n",
      "A N [0 0 0 0 0 0 0 0 0 0]\n",
      "A S [0 0 0 0 0 1 0 0 0 0]\n",
      "A L [0 1 0 0 0 0 0 0 0 0]\n",
      "A O [0 0 0 0 0 0 0 0 0 0]\n",
      "{'S': 9.192798246747259, 'L': 9.192798246747259}\n",
      "S\n",
      "H N [0 0 0.5 0 0 0.5 0 0 0 0]\n",
      "H S [0 0 0 0 0 0 0 0 0 0]\n",
      "H L [0 0 0 0 0 0.5 0 0 0.5 0]\n",
      "H O [0 0 0 0 0 0.5 0.5 0 0 0]\n",
      "{'N': 5.096399123373629, 'L': 9.118143234635975, 'O': 9.462978290578576}\n",
      "N\n",
      "B N [0 0 0 0 0 0 0 0 0 0]\n",
      "B S [0 0 0 0 0 0 1 0 0 0]\n",
      "B L [0 0 1 0 0 0 0 0 0 0]\n",
      "B O [1 0 0 0 0 0 0 0 0 0]\n",
      "{'S': 9.733158334409895, 'L': 1.0, 'O': 9.733158334409895}\n",
      "L\n",
      "I N [0 0 0 0.5 0 0.5 0 0 0 0]\n",
      "I S [0 0 0 0 0 0 0 0 0 0]\n",
      "I L [0 0 0 0 0 0.5 0 0 0 0.5]\n",
      "I O [0 0 0 0 0 0.5 0 0.5 0 0]\n",
      "{'N': 5.096399123373629, 'L': 5.096399123373629, 'O': 9.591313811398452}\n",
      "N\n",
      "C N [0 0 0 0 0 0 0 0 0 0]\n",
      "C S [0 0 0 0 0 0 0 1 0 0]\n",
      "C L [0 0 0 1 0 0 0 0 0 0]\n",
      "C O [0 1 0 0 0 0 0 0 0 0]\n",
      "{'S': 9.989829376049647, 'L': 1.0, 'O': 10.2465004176894}\n",
      "L\n",
      "F ['D']\n",
      "I ['F', 'G', 'A', 'H', 'B', 'I', 'C', 'J']\n",
      "G ['F', 'G', 'A', 'A', 'H', 'B', 'H', 'B', 'B', 'I', 'C', 'I', 'C', 'C', 'J', 'D', 'J', 'D', 'D']\n",
      "GV ['F', 'G', 'A', 'A', 'H', 'B', 'H', 'B', 'B', 'I', 'C', 'I', 'C', 'C', 'J', 'D', 'J', 'D', 'D']\n",
      "Z ['F', 'G', 'A', 'H', 'B', 'I', 'C', 'J']\n",
      "F N [1 0 0 0 0 0 0 0 0 0]\n",
      "F S [0 0 0 0 0 0 0 0 0 0]\n",
      "F L [0 0 0 0 0 0 1 0 0 0]\n",
      "F O [0 0 0 0 0 0 0 0 0 0]\n",
      "{'N': 9.733158334409895, 'L': 9.733158334409895}\n",
      "N\n",
      "G N [0 0.5 0 0 0 0.5 0 0 0 0]\n",
      "G S [0 0 0 0 0 0 0 0 0 0]\n",
      "G L [0 0 0 0 0 0.5 0 0.5 0 0]\n",
      "G O [0 0 0 0 0 1 0 0 0 0]\n",
      "{'N': 10.2465004176894, 'L': 10.118164896869523, 'O': 10.2465004176894}\n",
      "L\n",
      "A N [0 0 0 0 0 0 0 0 0 0]\n",
      "A S [0 0 0 0 0 1 0 0 0 0]\n",
      "A L [0 1 0 0 0 0 0 0 0 0]\n",
      "A O [0 0 0 0 0 0 0 0 0 0]\n",
      "{'S': 10.2465004176894, 'L': 10.2465004176894}\n",
      "S\n",
      "H N [0 0 0.5 0 0 0.5 0 0 0 0]\n",
      "H S [0 0 0 0 0 0 0 0 0 0]\n",
      "H L [0 0 0 0 0 0.5 0 0 0.5 0]\n",
      "H O [0 0 0 0 0 0.5 0.5 0 0 0]\n",
      "{'N': 10.490337907247167, 'L': 10.179124269258965, 'O': 10.490337907247167}\n",
      "L\n",
      "B N [0 0 0 0 0 0 0 0 0 0]\n",
      "B S [0 0 0 0 0 0 1 0 0 0]\n",
      "B L [0 0 1 0 0 0 0 0 0 0]\n",
      "B O [1 0 0 0 0 0 0 0 0 0]\n",
      "{'S': 10.73417539680493, 'L': 10.73417539680493, 'O': 10.73417539680493}\n",
      "S\n",
      "I N [0 0 0 0.5 0 0.5 0 0 0 0]\n",
      "I S [0 0 0 0 0 0 0 0 0 0]\n",
      "I L [0 0 0 0 0 0.5 0 0 0 0.5]\n",
      "I O [0 0 0 0 0 0.5 0 0.5 0 0]\n",
      "{'N': 5.6232502088447, 'L': 5.6232502088447, 'O': 10.606160714787103}\n",
      "N\n",
      "C N [0 0 0 0 0 0 0 0 0 0]\n",
      "C S [0 0 0 0 0 0 0 1 0 0]\n",
      "C L [0 0 0 1 0 0 0 0 0 0]\n",
      "C O [0 1 0 0 0 0 0 0 0 0]\n",
      "{'S': 10.965821011884808, 'L': 1.0, 'O': 11.197466626964683}\n",
      "L\n",
      "J N [0 0 0 0 0 0 0 0 0 0]\n",
      "J S [0 0 0 0 0 0 0 0 0 0]\n",
      "J L [0 0 0 0 0 0 0 0 0 0]\n",
      "J O [0 0 0 0 0 0 0 0 0 0]\n",
      "{}\n"
     ]
    },
    {
     "ename": "ValueError",
     "evalue": "min() arg is an empty sequence",
     "output_type": "error",
     "traceback": [
      "\u001b[1;31m---------------------------------------------------------------------------\u001b[0m",
      "\u001b[1;31mValueError\u001b[0m                                Traceback (most recent call last)",
      "\u001b[1;32m<ipython-input-57-30077258eb6c>\u001b[0m in \u001b[0;36m<module>\u001b[1;34m\u001b[0m\n\u001b[1;32m----> 1\u001b[1;33m \u001b[0mr\u001b[0m\u001b[1;33m.\u001b[0m\u001b[0mstep\u001b[0m\u001b[1;33m(\u001b[0m\u001b[1;33m)\u001b[0m\u001b[1;33m\u001b[0m\u001b[1;33m\u001b[0m\u001b[0m\n\u001b[0m\u001b[0;32m      2\u001b[0m \u001b[0mr\u001b[0m\u001b[1;33m\u001b[0m\u001b[1;33m\u001b[0m\u001b[0m\n",
      "\u001b[1;32m<ipython-input-54-ac7c9acec37a>\u001b[0m in \u001b[0;36mstep\u001b[1;34m(self)\u001b[0m\n\u001b[0;32m    119\u001b[0m \u001b[1;33m\u001b[0m\u001b[0m\n\u001b[0;32m    120\u001b[0m                 \u001b[0mprint\u001b[0m\u001b[1;33m(\u001b[0m\u001b[0mbellman_res\u001b[0m\u001b[1;33m)\u001b[0m\u001b[1;33m\u001b[0m\u001b[1;33m\u001b[0m\u001b[0m\n\u001b[1;32m--> 121\u001b[1;33m                 \u001b[0mprint\u001b[0m\u001b[1;33m(\u001b[0m\u001b[0mmin\u001b[0m\u001b[1;33m(\u001b[0m\u001b[0mbellman_res\u001b[0m\u001b[1;33m,\u001b[0m \u001b[0mkey\u001b[0m\u001b[1;33m=\u001b[0m\u001b[0mbellman_res\u001b[0m\u001b[1;33m.\u001b[0m\u001b[0mget\u001b[0m\u001b[1;33m)\u001b[0m\u001b[1;33m)\u001b[0m\u001b[1;33m\u001b[0m\u001b[1;33m\u001b[0m\u001b[0m\n\u001b[0m\u001b[0;32m    122\u001b[0m                 \u001b[0mself\u001b[0m\u001b[1;33m.\u001b[0m\u001b[0mV\u001b[0m\u001b[1;33m[\u001b[0m\u001b[0mS\u001b[0m\u001b[1;33m]\u001b[0m \u001b[1;33m=\u001b[0m \u001b[0mnp\u001b[0m\u001b[1;33m.\u001b[0m\u001b[0mmax\u001b[0m\u001b[1;33m(\u001b[0m\u001b[1;33m[\u001b[0m\u001b[0mv\u001b[0m\u001b[1;33m[\u001b[0m\u001b[1;36m1\u001b[0m\u001b[1;33m]\u001b[0m \u001b[1;32mfor\u001b[0m \u001b[0mv\u001b[0m \u001b[1;32min\u001b[0m \u001b[0mbellman_res\u001b[0m\u001b[1;33m.\u001b[0m\u001b[0mitems\u001b[0m\u001b[1;33m(\u001b[0m\u001b[1;33m)\u001b[0m\u001b[1;33m]\u001b[0m\u001b[1;33m)\u001b[0m\u001b[1;33m\u001b[0m\u001b[1;33m\u001b[0m\u001b[0m\n\u001b[0;32m    123\u001b[0m                 \u001b[0mself\u001b[0m\u001b[1;33m.\u001b[0m\u001b[0mGV\u001b[0m \u001b[1;33m=\u001b[0m \u001b[0mself\u001b[0m\u001b[1;33m.\u001b[0m\u001b[0mG\u001b[0m\u001b[1;33m\u001b[0m\u001b[1;33m\u001b[0m\u001b[0m\n",
      "\u001b[1;31mValueError\u001b[0m: min() arg is an empty sequence"
     ]
    }
   ],
   "source": [
    "r.step()\n",
    "r"
   ]
  },
  {
   "cell_type": "markdown",
   "metadata": {},
   "source": [
    "$$\\gamma ≠ 1$$"
   ]
  },
  {
   "cell_type": "code",
   "execution_count": 9,
   "metadata": {
    "ExecuteTime": {
     "end_time": "2022-10-07T11:10:45.915457Z",
     "start_time": "2022-10-07T11:10:45.886457Z"
    }
   },
   "outputs": [
    {
     "name": "stdout",
     "output_type": "stream",
     "text": [
      "Inicializando Rio!\n"
     ]
    }
   ],
   "source": [
    "V0 = {'A': 0, 'B': 0, 'C': 0, 'D': 0, 'E': 0,\n",
    "'F': 0, 'G': 0, 'H': 0, 'I': 0, 'J': 0}\n",
    "R = {'A': -1, 'B': -1, 'C': -1, 'D': -1, 'E': -1,\n",
    "'F': -1, 'G': -1, 'H': -1, 'I': -1, 'J': 0}\n",
    "disc_factor = 0.9\n",
    "epsilon = 0.001\n",
    "\n",
    "r1 = Rio(V0, R, disc_factor, epsilon)"
   ]
  },
  {
   "cell_type": "code",
   "execution_count": 10,
   "metadata": {
    "ExecuteTime": {
     "end_time": "2022-10-07T11:10:45.946456Z",
     "start_time": "2022-10-07T11:10:45.916456Z"
    }
   },
   "outputs": [
    {
     "name": "stdout",
     "output_type": "stream",
     "text": [
      "F ['G', 'A']\n",
      "I ['F']\n",
      "G ['F', 'G', 'A']\n",
      "GV ['F']\n",
      "Z ['F']\n",
      "[-1.0, -1.0, -1.0, -1.0]\n",
      "F ['A', 'H', 'B']\n",
      "I ['F', 'G']\n",
      "G ['F', 'G', 'A', 'A', 'H', 'B']\n",
      "GV ['F', 'G', 'A', 'A', 'H', 'B']\n",
      "Z ['F', 'G']\n",
      "[-1.0, -1.9, -1.0, -1.9]\n",
      "[-1.0, -1.9, -1.0, -1.9, -1.45, -1.0, -1.45, -1.9]\n",
      "F ['H', 'B']\n",
      "I ['F', 'G', 'A']\n",
      "G ['F', 'G', 'A', 'A', 'H', 'B', 'H', 'B']\n",
      "GV ['F', 'G', 'A', 'A', 'H', 'B', 'H', 'B']\n",
      "Z ['F', 'G', 'A']\n",
      "[-1.0, -1.9, -1.9, -1.9]\n",
      "[-1.0, -1.9, -1.9, -1.9, -1.45, -1.9, -1.45, -1.9]\n",
      "[-1.0, -1.9, -1.9, -1.9, -1.45, -1.9, -1.45, -1.9, -1.0, -1.9, -1.0, -1.0]\n",
      "F ['B', 'I', 'C']\n",
      "I ['F', 'G', 'A', 'H']\n",
      "G ['F', 'G', 'A', 'A', 'H', 'B', 'H', 'B', 'B', 'I', 'C']\n",
      "GV ['F', 'G', 'A', 'A', 'H', 'B', 'H', 'B', 'B', 'I', 'C']\n",
      "Z ['F', 'G', 'A', 'H']\n",
      "[-1.9, -1.9, -1.9, -1.9]\n",
      "[-1.9, -1.9, -1.9, -1.9, -1.855, -1.9, -1.855, -2.71]\n",
      "[-1.9, -1.9, -1.9, -1.9, -1.855, -1.9, -1.855, -2.71, -1.9, -2.71, -1.0, -1.9]\n",
      "[-1.9, -1.9, -1.9, -1.9, -1.855, -1.9, -1.855, -2.71, -1.9, -2.71, -1.0, -1.9, -1.855, -1.0, -1.855, -2.68975]\n",
      "F ['I', 'C']\n",
      "I ['F', 'G', 'A', 'H', 'B']\n",
      "G ['F', 'G', 'A', 'A', 'H', 'B', 'H', 'B', 'B', 'I', 'C', 'I', 'C']\n",
      "GV ['F', 'G', 'A', 'A', 'H', 'B', 'H', 'B', 'B', 'I', 'C', 'I', 'C']\n",
      "Z ['F', 'G', 'A', 'H', 'B']\n",
      "[-1.9, -2.71, -2.6695, -2.71]\n",
      "[-1.9, -2.71, -2.6695, -2.71, -1.855, -2.6695, -2.3049999999999997, -2.71]\n",
      "[-1.9, -2.71, -2.6695, -2.71, -1.855, -2.6695, -2.3049999999999997, -2.71, -1.9, -2.71, -1.0, -1.9]\n",
      "[-1.9, -2.71, -2.6695, -2.71, -1.855, -2.6695, -2.3049999999999997, -2.71, -1.9, -2.71, -1.0, -1.9, -1.855, -1.9, -1.855, -2.68975]\n",
      "[-1.9, -2.71, -2.6695, -2.71, -1.855, -2.6695, -2.3049999999999997, -2.71, -1.9, -2.71, -1.0, -1.9, -1.855, -1.9, -1.855, -2.68975, -1.0, -2.6695, -1.0, -1.9]\n",
      "F ['C', 'J', 'D']\n",
      "I ['F', 'G', 'A', 'H', 'B', 'I']\n",
      "G ['F', 'G', 'A', 'A', 'H', 'B', 'H', 'B', 'B', 'I', 'C', 'I', 'C', 'C', 'J', 'D']\n",
      "GV ['F', 'G', 'A', 'A', 'H', 'B', 'H', 'B', 'B', 'I', 'C', 'I', 'C', 'C', 'J', 'D']\n",
      "Z ['F', 'G', 'A', 'H', 'B', 'I']\n",
      "[-1.9, -2.71, -2.6695, -2.71]\n",
      "[-1.9, -2.71, -2.6695, -2.71, -2.3049999999999997, -2.6695, -2.3049999999999997, -2.71]\n",
      "[-1.9, -2.71, -2.6695, -2.71, -2.3049999999999997, -2.6695, -2.3049999999999997, -2.71, -1.9, -2.71, -1.9, -1.9]\n",
      "[-1.9, -2.71, -2.6695, -2.71, -2.3049999999999997, -2.6695, -2.3049999999999997, -2.71, -1.9, -2.71, -1.9, -1.9, -1.855, -1.9, -1.855, -2.71]\n",
      "[-1.9, -2.71, -2.6695, -2.71, -2.3049999999999997, -2.6695, -2.3049999999999997, -2.71, -1.9, -2.71, -1.9, -1.9, -1.855, -1.9, -1.855, -2.71, -1.9, -2.71, -1.0, -2.71]\n",
      "[-1.9, -2.71, -2.6695, -2.71, -2.3049999999999997, -2.6695, -2.3049999999999997, -2.71, -1.9, -2.71, -1.9, -1.9, -1.855, -1.9, -1.855, -2.71, -1.9, -2.71, -1.0, -2.71, -1.855, -1.0, -1.855, -2.68975]\n",
      "F ['J', 'D']\n",
      "I ['F', 'G', 'A', 'H', 'B', 'I', 'C']\n",
      "G ['F', 'G', 'A', 'A', 'H', 'B', 'H', 'B', 'B', 'I', 'C', 'I', 'C', 'C', 'J', 'D', 'J', 'D']\n",
      "GV ['F', 'G', 'A', 'A', 'H', 'B', 'H', 'B', 'B', 'I', 'C', 'I', 'C', 'C', 'J', 'D', 'J', 'D']\n",
      "Z ['F', 'G', 'A', 'H', 'B', 'I', 'C']\n",
      "[-2.71, -2.71, -2.71, -2.71]\n",
      "[-2.71, -2.71, -2.71, -2.71, -2.6695, -2.71, -3.0542499999999997, -3.439]\n",
      "[-2.71, -2.71, -2.71, -2.71, -2.6695, -2.71, -3.0542499999999997, -3.439, -2.71, -3.439, -1.9, -2.71]\n",
      "[-2.71, -2.71, -2.71, -2.71, -2.6695, -2.71, -3.0542499999999997, -3.439, -2.71, -3.439, -1.9, -2.71, -2.2195, -2.6695, -2.6695, -3.4207750000000003]\n",
      "[-2.71, -2.71, -2.71, -2.71, -2.6695, -2.71, -3.0542499999999997, -3.439, -2.71, -3.439, -1.9, -2.71, -2.2195, -2.6695, -2.6695, -3.4207750000000003, -1.9, -3.40255, -1.0, -2.71]\n",
      "[-2.71, -2.71, -2.71, -2.71, -2.6695, -2.71, -3.0542499999999997, -3.439, -2.71, -3.439, -1.9, -2.71, -2.2195, -2.6695, -2.6695, -3.4207750000000003, -1.9, -3.40255, -1.0, -2.71, -2.2195, -1.9, -2.2195, -3.0745]\n",
      "[-2.71, -2.71, -2.71, -2.71, -2.6695, -2.71, -3.0542499999999997, -3.439, -2.71, -3.439, -1.9, -2.71, -2.2195, -2.6695, -2.6695, -3.4207750000000003, -1.9, -3.40255, -1.0, -2.71, -2.2195, -1.9, -2.2195, -3.0745, -1.0, -2.71, -1.0, -1.9]\n",
      "F ['D']\n",
      "I ['F', 'G', 'A', 'H', 'B', 'I', 'C', 'J']\n",
      "G ['F', 'G', 'A', 'A', 'H', 'B', 'H', 'B', 'B', 'I', 'C', 'I', 'C', 'C', 'J', 'D', 'J', 'D', 'D']\n",
      "GV ['F', 'G', 'A', 'A', 'H', 'B', 'H', 'B', 'B', 'I', 'C', 'I', 'C', 'C', 'J', 'D', 'J', 'D', 'D']\n",
      "Z ['F', 'G', 'A', 'H', 'B', 'I', 'C', 'J']\n",
      "[-2.71, -3.439, -3.40255, -3.439]\n",
      "[-2.71, -3.439, -3.40255, -3.439, -2.6695, -3.40255, -3.0745, -3.439]\n",
      "[-2.71, -3.439, -3.40255, -3.439, -2.6695, -3.40255, -3.0745, -3.439, -2.71, -3.439, -1.9, -2.71]\n",
      "[-2.71, -3.439, -3.40255, -3.439, -2.6695, -3.40255, -3.0745, -3.439, -2.71, -3.439, -1.9, -2.71, -2.6695, -2.71, -2.6695, -3.4207750000000003]\n",
      "[-2.71, -3.439, -3.40255, -3.439, -2.6695, -3.40255, -3.0745, -3.439, -2.71, -3.439, -1.9, -2.71, -2.6695, -2.71, -2.6695, -3.4207750000000003, -1.9, -3.40255, -1.9, -2.71]\n",
      "[-2.71, -3.439, -3.40255, -3.439, -2.6695, -3.40255, -3.0745, -3.439, -2.71, -3.439, -1.9, -2.71, -2.6695, -2.71, -2.6695, -3.4207750000000003, -1.9, -3.40255, -1.9, -2.71, -2.2195, -1.9, -2.2195, -3.0745]\n",
      "[-2.71, -3.439, -3.40255, -3.439, -2.6695, -3.40255, -3.0745, -3.439, -2.71, -3.439, -1.9, -2.71, -2.6695, -2.71, -2.6695, -3.4207750000000003, -1.9, -3.40255, -1.9, -2.71, -2.2195, -1.9, -2.2195, -3.0745, -1.9, -2.71, -1.0, -2.71]\n",
      "[-2.71, -3.439, -3.40255, -3.439, -2.6695, -3.40255, -3.0745, -3.439, -2.71, -3.439, -1.9, -2.71, -2.6695, -2.71, -2.6695, -3.4207750000000003, -1.9, -3.40255, -1.9, -2.71, -2.2195, -1.9, -2.2195, -3.0745, -1.9, -2.71, -1.0, -2.71, 0.0, 0.0, 0.0, 0.0]\n"
     ]
    },
    {
     "data": {
      "text/plain": [
       "A[-1.9] | B[-1.9] | C[-1.0] | D[0] | E[0] | \n",
       "F[-2.71] | G[-2.6695] | H[-1.9] | I[-1.9] | J[0.0] | "
      ]
     },
     "execution_count": 10,
     "metadata": {},
     "output_type": "execute_result"
    }
   ],
   "source": [
    "r1.step()\n",
    "r1"
   ]
  },
  {
   "cell_type": "code",
   "execution_count": 11,
   "metadata": {
    "ExecuteTime": {
     "end_time": "2022-10-07T11:10:46.318467Z",
     "start_time": "2022-10-07T11:10:45.947957Z"
    }
   },
   "outputs": [
    {
     "ename": "AttributeError",
     "evalue": "'Rio' object has no attribute 'run_converge'",
     "output_type": "error",
     "traceback": [
      "\u001b[1;31m---------------------------------------------------------------------------\u001b[0m",
      "\u001b[1;31mAttributeError\u001b[0m                            Traceback (most recent call last)",
      "\u001b[1;32m<ipython-input-11-3a1376778947>\u001b[0m in \u001b[0;36m<module>\u001b[1;34m\u001b[0m\n\u001b[0;32m      1\u001b[0m \u001b[0mr1\u001b[0m\u001b[1;33m.\u001b[0m\u001b[0mreset\u001b[0m\u001b[1;33m(\u001b[0m\u001b[1;33m)\u001b[0m\u001b[1;33m\u001b[0m\u001b[1;33m\u001b[0m\u001b[0m\n\u001b[1;32m----> 2\u001b[1;33m \u001b[0miteracoes\u001b[0m \u001b[1;33m=\u001b[0m \u001b[0mr1\u001b[0m\u001b[1;33m.\u001b[0m\u001b[0mrun_converge\u001b[0m\u001b[1;33m(\u001b[0m\u001b[1;33m)\u001b[0m\u001b[1;33m\u001b[0m\u001b[1;33m\u001b[0m\u001b[0m\n\u001b[0m\u001b[0;32m      3\u001b[0m \u001b[0mprint\u001b[0m\u001b[1;33m(\u001b[0m\u001b[1;34m'Quantidade de iterações realizadas:'\u001b[0m\u001b[1;33m,\u001b[0m \u001b[0miteracoes\u001b[0m\u001b[1;33m)\u001b[0m\u001b[1;33m\u001b[0m\u001b[1;33m\u001b[0m\u001b[0m\n\u001b[0;32m      4\u001b[0m \u001b[0mr1\u001b[0m\u001b[1;33m\u001b[0m\u001b[1;33m\u001b[0m\u001b[0m\n",
      "\u001b[1;31mAttributeError\u001b[0m: 'Rio' object has no attribute 'run_converge'"
     ]
    }
   ],
   "source": [
    "r1.reset()\n",
    "iteracoes = r1.run_converge()\n",
    "print('Quantidade de iterações realizadas:', iteracoes)\n",
    "r1"
   ]
  },
  {
   "cell_type": "markdown",
   "metadata": {},
   "source": [
    "---"
   ]
  },
  {
   "cell_type": "code",
   "execution_count": null,
   "metadata": {
    "ExecuteTime": {
     "end_time": "2022-10-07T11:10:46.319471Z",
     "start_time": "2022-10-07T11:10:34.649Z"
    }
   },
   "outputs": [],
   "source": [
    "V0 = {'A': 0, 'B': 0, 'C': 0, 'D': 0, 'E': 0,\n",
    "'F': 0, 'G': 0, 'H': 0, 'I': 0, 'J': 0}\n",
    "R = {'A': 0, 'B': 0, 'C': 0, 'D': 0, 'E': 0,\n",
    "'F': 0, 'G': 0, 'H': 0, 'I': 0, 'J': 1}\n",
    "disc_factor = 0.9\n",
    "epsilon = 0.001\n",
    "\n",
    "r2 = Rio(V0, R, disc_factor, epsilon)"
   ]
  },
  {
   "cell_type": "code",
   "execution_count": null,
   "metadata": {
    "ExecuteTime": {
     "end_time": "2022-10-07T11:10:46.320470Z",
     "start_time": "2022-10-07T11:10:34.650Z"
    }
   },
   "outputs": [],
   "source": [
    "r2.step()\n",
    "r2"
   ]
  },
  {
   "cell_type": "code",
   "execution_count": null,
   "metadata": {
    "ExecuteTime": {
     "end_time": "2022-10-07T11:10:46.320970Z",
     "start_time": "2022-10-07T11:10:34.651Z"
    }
   },
   "outputs": [],
   "source": [
    "r2.reset()\n",
    "iteracoes = r2.run_converge()\n",
    "print('Quantidade de iterações realizadas:', iteracoes)\n",
    "r2"
   ]
  },
  {
   "cell_type": "markdown",
   "metadata": {},
   "source": [
    "---"
   ]
  },
  {
   "cell_type": "code",
   "execution_count": null,
   "metadata": {
    "ExecuteTime": {
     "end_time": "2022-10-07T11:10:46.321970Z",
     "start_time": "2022-10-07T11:10:34.652Z"
    }
   },
   "outputs": [],
   "source": [
    "V0 = {'A': 0, 'B': 0, 'C': 0, 'D': 0, 'E': 0,\n",
    "'F': 0, 'G': 0, 'H': 0, 'I': 0, 'J': 0}\n",
    "R = {'A': 0, 'B': 0, 'C': 0, 'D': 0, 'E': 0,\n",
    "'F': 0, 'G': 0, 'H': 0, 'I': 0, 'J': 1}\n",
    "disc_factor = 0.3\n",
    "epsilon = 0.001\n",
    "\n",
    "r3 = Rio(V0, R, disc_factor, epsilon, False)"
   ]
  },
  {
   "cell_type": "code",
   "execution_count": null,
   "metadata": {
    "ExecuteTime": {
     "end_time": "2022-10-07T11:10:46.322469Z",
     "start_time": "2022-10-07T11:10:34.653Z"
    },
    "scrolled": false
   },
   "outputs": [],
   "source": [
    "r3.step()\n",
    "r3"
   ]
  },
  {
   "cell_type": "code",
   "execution_count": null,
   "metadata": {
    "ExecuteTime": {
     "end_time": "2022-10-07T11:10:46.323468Z",
     "start_time": "2022-10-07T11:10:34.654Z"
    }
   },
   "outputs": [],
   "source": [
    "r3.reset()\n",
    "iteracoes = r3.run_converge()\n",
    "print('Quantidade de iterações realizadas:', iteracoes)\n",
    "r3"
   ]
  }
 ],
 "metadata": {
  "hide_input": false,
  "kernelspec": {
   "display_name": "Python 3",
   "language": "python",
   "name": "python3"
  },
  "language_info": {
   "codemirror_mode": {
    "name": "ipython",
    "version": 3
   },
   "file_extension": ".py",
   "mimetype": "text/x-python",
   "name": "python",
   "nbconvert_exporter": "python",
   "pygments_lexer": "ipython3",
   "version": "3.8.5"
  },
  "toc": {
   "base_numbering": 1,
   "nav_menu": {},
   "number_sections": true,
   "sideBar": true,
   "skip_h1_title": false,
   "title_cell": "Table of Contents",
   "title_sidebar": "Contents",
   "toc_cell": false,
   "toc_position": {},
   "toc_section_display": true,
   "toc_window_display": false
  }
 },
 "nbformat": 4,
 "nbformat_minor": 4
}
