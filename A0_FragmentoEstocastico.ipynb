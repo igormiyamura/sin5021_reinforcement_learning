{
 "cells": [
  {
   "cell_type": "code",
   "execution_count": 1,
   "metadata": {
    "ExecuteTime": {
     "end_time": "2022-08-19T01:34:18.716729Z",
     "start_time": "2022-08-19T01:34:18.337158Z"
    }
   },
   "outputs": [],
   "source": [
    "import numpy as np\n",
    "import pandas as pd\n",
    "pd.options.display.float_format = '{:,.2f}'.format"
   ]
  },
  {
   "cell_type": "code",
   "execution_count": 2,
   "metadata": {
    "ExecuteTime": {
     "end_time": "2022-08-19T01:34:18.732234Z",
     "start_time": "2022-08-19T01:34:18.717733Z"
    }
   },
   "outputs": [],
   "source": [
    "class CafeAcaraje:\n",
    "    def __init__(self, dado, tabuleiro):\n",
    "        self.dado = dado\n",
    "        self.tabuleiro = tabuleiro\n",
    "        print('Iniciando classe do jogo Café ou Acarajé!')\n",
    "    \n",
    "    def prob_dado(self):\n",
    "        unique, counts = np.unique(self.dado, return_counts=True)\n",
    "        dict_dado = dict(zip(unique, counts))\n",
    "        dict_prob = dict_dado.copy()\n",
    "        \n",
    "        for number in dict_dado.keys():\n",
    "            dict_prob[number] = dict_dado[number] / len(dado)\n",
    "            \n",
    "        return dict_prob\n",
    "    \n",
    "    def matriz_transicao(self):\n",
    "        probs = self.prob_dado()\n",
    "        arr_casas = ['A', 'B', 'C', 'D', 'E', 'F', 'Z']\n",
    "        matriz_transicao = pd.DataFrame(np.zeros((7,7)), columns=arr_casas, index=arr_casas)\n",
    "        \n",
    "        for i in range(0, len(matriz_transicao)):\n",
    "            casa_atual = matriz_transicao.index[i]\n",
    "            \n",
    "            if casa_atual == 'D' or casa_atual == 'F' or casa_atual == 'Z':\n",
    "                matriz_transicao.loc[casa_atual, 'Z'] = 1\n",
    "            else:\n",
    "                for key in probs.keys():\n",
    "                    if i+key <= 5:\n",
    "                        matriz_transicao.iloc[i, i+key] = probs[key]\n",
    "                    else:\n",
    "                        matriz_transicao.iloc[i, 5 - (i+key)%5] = probs[key]\n",
    "                        \n",
    "        return matriz_transicao"
   ]
  },
  {
   "cell_type": "markdown",
   "metadata": {},
   "source": [
    "# Café ou Acarajé"
   ]
  },
  {
   "cell_type": "code",
   "execution_count": 3,
   "metadata": {
    "ExecuteTime": {
     "end_time": "2022-08-19T01:34:18.747737Z",
     "start_time": "2022-08-19T01:34:18.733736Z"
    }
   },
   "outputs": [
    {
     "data": {
      "text/html": [
       "<div>\n",
       "<style scoped>\n",
       "    .dataframe tbody tr th:only-of-type {\n",
       "        vertical-align: middle;\n",
       "    }\n",
       "\n",
       "    .dataframe tbody tr th {\n",
       "        vertical-align: top;\n",
       "    }\n",
       "\n",
       "    .dataframe thead th {\n",
       "        text-align: right;\n",
       "    }\n",
       "</style>\n",
       "<table border=\"1\" class=\"dataframe\">\n",
       "  <thead>\n",
       "    <tr style=\"text-align: right;\">\n",
       "      <th></th>\n",
       "      <th>A</th>\n",
       "      <th>B</th>\n",
       "      <th>C</th>\n",
       "      <th>D</th>\n",
       "      <th>E</th>\n",
       "      <th>F</th>\n",
       "      <th>Z</th>\n",
       "    </tr>\n",
       "  </thead>\n",
       "  <tbody>\n",
       "    <tr>\n",
       "      <th>A</th>\n",
       "      <td>0.00</td>\n",
       "      <td>0.00</td>\n",
       "      <td>0.00</td>\n",
       "      <td>0.00</td>\n",
       "      <td>0.00</td>\n",
       "      <td>0.00</td>\n",
       "      <td>0.00</td>\n",
       "    </tr>\n",
       "    <tr>\n",
       "      <th>B</th>\n",
       "      <td>0.00</td>\n",
       "      <td>0.00</td>\n",
       "      <td>0.00</td>\n",
       "      <td>0.00</td>\n",
       "      <td>0.00</td>\n",
       "      <td>0.00</td>\n",
       "      <td>0.00</td>\n",
       "    </tr>\n",
       "    <tr>\n",
       "      <th>C</th>\n",
       "      <td>0.00</td>\n",
       "      <td>0.00</td>\n",
       "      <td>0.00</td>\n",
       "      <td>0.00</td>\n",
       "      <td>0.00</td>\n",
       "      <td>0.00</td>\n",
       "      <td>0.00</td>\n",
       "    </tr>\n",
       "    <tr>\n",
       "      <th>D</th>\n",
       "      <td>0.00</td>\n",
       "      <td>0.00</td>\n",
       "      <td>0.00</td>\n",
       "      <td>0.00</td>\n",
       "      <td>0.00</td>\n",
       "      <td>0.00</td>\n",
       "      <td>0.00</td>\n",
       "    </tr>\n",
       "    <tr>\n",
       "      <th>E</th>\n",
       "      <td>0.00</td>\n",
       "      <td>0.00</td>\n",
       "      <td>0.00</td>\n",
       "      <td>0.00</td>\n",
       "      <td>0.00</td>\n",
       "      <td>0.00</td>\n",
       "      <td>0.00</td>\n",
       "    </tr>\n",
       "    <tr>\n",
       "      <th>F</th>\n",
       "      <td>0.00</td>\n",
       "      <td>0.00</td>\n",
       "      <td>0.00</td>\n",
       "      <td>0.00</td>\n",
       "      <td>0.00</td>\n",
       "      <td>0.00</td>\n",
       "      <td>0.00</td>\n",
       "    </tr>\n",
       "    <tr>\n",
       "      <th>Z</th>\n",
       "      <td>0.00</td>\n",
       "      <td>0.00</td>\n",
       "      <td>0.00</td>\n",
       "      <td>0.00</td>\n",
       "      <td>0.00</td>\n",
       "      <td>0.00</td>\n",
       "      <td>0.00</td>\n",
       "    </tr>\n",
       "  </tbody>\n",
       "</table>\n",
       "</div>"
      ],
      "text/plain": [
       "     A    B    C    D    E    F    Z\n",
       "A 0.00 0.00 0.00 0.00 0.00 0.00 0.00\n",
       "B 0.00 0.00 0.00 0.00 0.00 0.00 0.00\n",
       "C 0.00 0.00 0.00 0.00 0.00 0.00 0.00\n",
       "D 0.00 0.00 0.00 0.00 0.00 0.00 0.00\n",
       "E 0.00 0.00 0.00 0.00 0.00 0.00 0.00\n",
       "F 0.00 0.00 0.00 0.00 0.00 0.00 0.00\n",
       "Z 0.00 0.00 0.00 0.00 0.00 0.00 0.00"
      ]
     },
     "execution_count": 3,
     "metadata": {},
     "output_type": "execute_result"
    }
   ],
   "source": [
    "arr_casas = ['A', 'B', 'C', 'D', 'E', 'F', 'Z']\n",
    "matriz_transicao = pd.DataFrame(np.zeros((7,7)), columns=arr_casas, index=arr_casas)\n",
    "matriz_transicao"
   ]
  },
  {
   "cell_type": "code",
   "execution_count": 4,
   "metadata": {
    "ExecuteTime": {
     "end_time": "2022-08-19T01:34:18.763239Z",
     "start_time": "2022-08-19T01:34:18.748739Z"
    },
    "scrolled": true
   },
   "outputs": [
    {
     "name": "stdout",
     "output_type": "stream",
     "text": [
      "Iniciando classe do jogo Café ou Acarajé!\n"
     ]
    }
   ],
   "source": [
    "dado = [1, 1, 1, 2, 2, 3]\n",
    "tabuleiro = ['x', 'x', 'x', 'café', 'x', 'acarajé']\n",
    "cafe_acaraje = CafeAcaraje(dado, tabuleiro)"
   ]
  },
  {
   "cell_type": "code",
   "execution_count": 5,
   "metadata": {
    "ExecuteTime": {
     "end_time": "2022-08-19T01:34:18.778744Z",
     "start_time": "2022-08-19T01:34:18.764741Z"
    }
   },
   "outputs": [
    {
     "data": {
      "text/plain": [
       "{1: 0.5, 2: 0.3333333333333333, 3: 0.16666666666666666}"
      ]
     },
     "execution_count": 5,
     "metadata": {},
     "output_type": "execute_result"
    }
   ],
   "source": [
    "prob_dado = cafe_acaraje.prob_dado()\n",
    "prob_dado"
   ]
  },
  {
   "cell_type": "code",
   "execution_count": 6,
   "metadata": {
    "ExecuteTime": {
     "end_time": "2022-08-19T01:34:18.794245Z",
     "start_time": "2022-08-19T01:34:18.780244Z"
    }
   },
   "outputs": [
    {
     "data": {
      "text/html": [
       "<div>\n",
       "<style scoped>\n",
       "    .dataframe tbody tr th:only-of-type {\n",
       "        vertical-align: middle;\n",
       "    }\n",
       "\n",
       "    .dataframe tbody tr th {\n",
       "        vertical-align: top;\n",
       "    }\n",
       "\n",
       "    .dataframe thead th {\n",
       "        text-align: right;\n",
       "    }\n",
       "</style>\n",
       "<table border=\"1\" class=\"dataframe\">\n",
       "  <thead>\n",
       "    <tr style=\"text-align: right;\">\n",
       "      <th></th>\n",
       "      <th>A</th>\n",
       "      <th>B</th>\n",
       "      <th>C</th>\n",
       "      <th>D</th>\n",
       "      <th>E</th>\n",
       "      <th>F</th>\n",
       "      <th>Z</th>\n",
       "    </tr>\n",
       "  </thead>\n",
       "  <tbody>\n",
       "    <tr>\n",
       "      <th>A</th>\n",
       "      <td>0.00</td>\n",
       "      <td>0.50</td>\n",
       "      <td>0.33</td>\n",
       "      <td>0.17</td>\n",
       "      <td>0.00</td>\n",
       "      <td>0.00</td>\n",
       "      <td>0.00</td>\n",
       "    </tr>\n",
       "    <tr>\n",
       "      <th>B</th>\n",
       "      <td>0.00</td>\n",
       "      <td>0.00</td>\n",
       "      <td>0.50</td>\n",
       "      <td>0.33</td>\n",
       "      <td>0.17</td>\n",
       "      <td>0.00</td>\n",
       "      <td>0.00</td>\n",
       "    </tr>\n",
       "    <tr>\n",
       "      <th>C</th>\n",
       "      <td>0.00</td>\n",
       "      <td>0.00</td>\n",
       "      <td>0.00</td>\n",
       "      <td>0.50</td>\n",
       "      <td>0.33</td>\n",
       "      <td>0.17</td>\n",
       "      <td>0.00</td>\n",
       "    </tr>\n",
       "    <tr>\n",
       "      <th>D</th>\n",
       "      <td>0.00</td>\n",
       "      <td>0.00</td>\n",
       "      <td>0.00</td>\n",
       "      <td>0.00</td>\n",
       "      <td>0.00</td>\n",
       "      <td>0.00</td>\n",
       "      <td>1.00</td>\n",
       "    </tr>\n",
       "    <tr>\n",
       "      <th>E</th>\n",
       "      <td>0.00</td>\n",
       "      <td>0.00</td>\n",
       "      <td>0.00</td>\n",
       "      <td>0.17</td>\n",
       "      <td>0.33</td>\n",
       "      <td>0.50</td>\n",
       "      <td>0.00</td>\n",
       "    </tr>\n",
       "    <tr>\n",
       "      <th>F</th>\n",
       "      <td>0.00</td>\n",
       "      <td>0.00</td>\n",
       "      <td>0.00</td>\n",
       "      <td>0.00</td>\n",
       "      <td>0.00</td>\n",
       "      <td>0.00</td>\n",
       "      <td>1.00</td>\n",
       "    </tr>\n",
       "    <tr>\n",
       "      <th>Z</th>\n",
       "      <td>0.00</td>\n",
       "      <td>0.00</td>\n",
       "      <td>0.00</td>\n",
       "      <td>0.00</td>\n",
       "      <td>0.00</td>\n",
       "      <td>0.00</td>\n",
       "      <td>1.00</td>\n",
       "    </tr>\n",
       "  </tbody>\n",
       "</table>\n",
       "</div>"
      ],
      "text/plain": [
       "     A    B    C    D    E    F    Z\n",
       "A 0.00 0.50 0.33 0.17 0.00 0.00 0.00\n",
       "B 0.00 0.00 0.50 0.33 0.17 0.00 0.00\n",
       "C 0.00 0.00 0.00 0.50 0.33 0.17 0.00\n",
       "D 0.00 0.00 0.00 0.00 0.00 0.00 1.00\n",
       "E 0.00 0.00 0.00 0.17 0.33 0.50 0.00\n",
       "F 0.00 0.00 0.00 0.00 0.00 0.00 1.00\n",
       "Z 0.00 0.00 0.00 0.00 0.00 0.00 1.00"
      ]
     },
     "execution_count": 6,
     "metadata": {},
     "output_type": "execute_result"
    }
   ],
   "source": [
    "mt = cafe_acaraje.matriz_transicao()\n",
    "mt"
   ]
  },
  {
   "cell_type": "markdown",
   "metadata": {},
   "source": [
    "## Probabilidades de Transição"
   ]
  },
  {
   "cell_type": "code",
   "execution_count": 26,
   "metadata": {
    "ExecuteTime": {
     "end_time": "2022-08-19T01:39:12.842577Z",
     "start_time": "2022-08-19T01:39:12.826059Z"
    }
   },
   "outputs": [
    {
     "data": {
      "text/plain": [
       "array([[1.],\n",
       "       [0.],\n",
       "       [0.],\n",
       "       [0.],\n",
       "       [0.],\n",
       "       [0.],\n",
       "       [0.]])"
      ]
     },
     "execution_count": 26,
     "metadata": {},
     "output_type": "execute_result"
    }
   ],
   "source": [
    "# Probabilidade Inicial\n",
    "T0 = np.zeros((1, 7)).T\n",
    "T0[0][0] = 1\n",
    "T0"
   ]
  },
  {
   "cell_type": "markdown",
   "metadata": {},
   "source": [
    "**Desafios - Fragmento 02**\n",
    "\n",
    "1. Qual a probabilidada de ganhar Acarajé?\n",
    "2. Como você adaptaria a teoria aqui estudada para calcular a probabilidade de passar pelo estado B?\n",
    "3. A probabilidade de passar pelos estados B e E?"
   ]
  },
  {
   "cell_type": "code",
   "execution_count": 91,
   "metadata": {
    "ExecuteTime": {
     "end_time": "2022-08-19T02:04:21.199322Z",
     "start_time": "2022-08-19T02:04:20.887790Z"
    }
   },
   "outputs": [
    {
     "name": "stdout",
     "output_type": "stream",
     "text": [
      "Prob. Acarajé em M [100] passos: 0.6944444444444442\n",
      "Prob. Café em M [100] passos: 0.30555555555555536\n",
      "Prob. de Passar por B: 0.5\n",
      "Prob. de Passar por B e E: 0.20833333333333331\n"
     ]
    }
   ],
   "source": [
    "T_Aux = T0\n",
    "M = 100\n",
    "\n",
    "Prob_A, Prob_B, Prob_C, Prob_D, Prob_E, Prob_F = 0, 0, 0, 0, 0, 0\n",
    "\n",
    "for i in range(0, M):\n",
    "    T = mt.T @ T_Aux\n",
    "    T_Aux = T\n",
    "    \n",
    "    Prob_A += T[T.index == 'A'].sum()\n",
    "    Prob_B += T[T.index == 'B'].sum()\n",
    "    Prob_C += T[T.index == 'C'].sum()\n",
    "    Prob_D += T[T.index == 'D'].sum()\n",
    "    Prob_E += T[T.index == 'E'].sum()\n",
    "    Prob_F += T[T.index == 'F'].sum()\n",
    "    \n",
    "    Prob_Z = T[T.index != 'Z'].sum()\n",
    "    Prob_Game = 1 - Prob_Z\n",
    "    #print(f'#{i} - Probabilidade da Partida Cotinuar: {np.round(Prob_Z.values[0], 2)}, ' + \\\n",
    "          #f'Prob. de Terminar: {np.round(Prob_Game.values[0], 2)}')\n",
    "\n",
    "print(f'Prob. Acarajé em M [{M}] passos: {Prob_D.values[0]}')\n",
    "print(f'Prob. Café em M [{M}] passos: {Prob_F.values[0]}')\n",
    "\n",
    "print(f'Prob. de Passar por B: {Prob_B.values[0]}')\n",
    "print(f'Prob. de Passar por B e E: {Prob_B.values[0] * Prob_E.values[0]}')"
   ]
  },
  {
   "cell_type": "markdown",
   "metadata": {},
   "source": [
    "1. Calcule as seguintes probabilidades:\\\n",
    "    1.1. de B ou E acontecerem;\\\n",
    "    1.2. de B e E acontecerem;\\\n",
    "    1.3. de ou B ou E acontecerem;\n",
    "2. Calcule as probabilidades anteriores, em uma versão do jogo com um limite de turnos n,"
   ]
  },
  {
   "cell_type": "markdown",
   "metadata": {},
   "source": [
    "1. Considere um jogo no qual o jogador paga o valor tirado no dado. Qual é o custo do jogo?\n",
    "2. Considere o calculo com truncamento. Obtenha um limite superior para esse truncamente.\n",
    "3. Demonstre que não temos como encontrar um tempo finito T, no qual o jogo sempre já terá acabado."
   ]
  }
 ],
 "metadata": {
  "hide_input": false,
  "kernelspec": {
   "display_name": "Python 3",
   "language": "python",
   "name": "python3"
  },
  "language_info": {
   "codemirror_mode": {
    "name": "ipython",
    "version": 3
   },
   "file_extension": ".py",
   "mimetype": "text/x-python",
   "name": "python",
   "nbconvert_exporter": "python",
   "pygments_lexer": "ipython3",
   "version": "3.8.5"
  },
  "toc": {
   "base_numbering": 1,
   "nav_menu": {},
   "number_sections": true,
   "sideBar": true,
   "skip_h1_title": false,
   "title_cell": "Table of Contents",
   "title_sidebar": "Contents",
   "toc_cell": false,
   "toc_position": {},
   "toc_section_display": true,
   "toc_window_display": false
  }
 },
 "nbformat": 4,
 "nbformat_minor": 4
}
